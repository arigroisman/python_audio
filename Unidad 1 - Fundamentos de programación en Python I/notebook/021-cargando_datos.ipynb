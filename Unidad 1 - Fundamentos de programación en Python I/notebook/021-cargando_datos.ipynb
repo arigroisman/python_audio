{
 "cells": [
  {
   "cell_type": "markdown",
   "metadata": {},
   "source": [
    "![](../imagenes/titulo_021.png)"
   ]
  },
  {
   "cell_type": "markdown",
   "metadata": {},
   "source": [
    "## Índice\n",
    "\n",
    "* [Introducción](#Introduccion)\n",
    "* [DataSets](#DataSets)\n",
    "* [Generar y almacenar datos](#Generar-y-almacenar-datos)\n",
    "* [Cargar datos](#Cargar-datos)\n",
    "    * [Cargando .csv](#Cargando-csv)    \n",
    "* [Funciones y métodos](#Funciones-y-metodos)\n",
    "* [Visualizacion](#Visualizacion)\n",
    "* [Referencias](#Referencias)\n",
    "* [Licencia](#Licencia)"
   ]
  },
  {
   "cell_type": "markdown",
   "metadata": {},
   "source": [
    "## Introduccion\n",
    "\n",
    "Imaginemos que deseamos guardar o cargar los datos de un experimento, datos de una adquisición, o simplemente leer o escribir un archivo de texto con datos numéricos. En cualquier caso, la librería [NumPy](030-intro_numpy.ipynb) nos ofrece varias funciones para realizar estas tareas forma matricial. **Pero con el limitante que solo pueden ser datos numéricos.**"
   ]
  },
  {
   "cell_type": "markdown",
   "metadata": {},
   "source": [
    "## DataSets\n",
    "\n",
    "Un conjunto de datos (conocido también por el anglicismo: **DataSet**, comúnmente utilizado en algunos países hispanohablantes) es una colección de datos habitualmente tabulada. En general y en su versión más simple, un dataset corresponde a los contenidos de una única tabla de base de datos o una única matriz de datos, donde cada columna de la tabla representa una variable en particular, y cada fila representa a un miembro determinado del conjunto de datos en cuestión.\n",
    "\n",
    "Un ejemplo, bien podría ser, la altura y el peso de un objeto, en dos columnas y n filas por n objetos medidos. "
   ]
  },
  {
   "cell_type": "markdown",
   "metadata": {},
   "source": [
    "El almacenamiento de datos en archivos de texto, es un estándar para el análisis de datos y en este sentido hay muchos repositorios de datos a los que se pueden acceder de manera gratuita, por ejemplo:\n",
    "\n",
    "* Dataset para el análisis de música: https://github.com/mdeff/fma\n",
    "* Dataset de datos públicos generados por organismos del Gobierno de la República Argentina: http://datos.gob.ar/dataset\n",
    "* Dataset de datos públicos generados por organismos de la Ciudad Autónoma de Buenos Aires.https://data.buenosaires.gob.ar/\n",
    "* Repositorio para machine learning (Donald Bren School of Information & Computer Sciences): https://archive.ics.uci.edu/ml/index.php\n",
    "* Repositorio de dataScience https://www.kaggle.com/\n",
    "\n",
    "Recuerden que en esta clase vamos a ver solo datasets de datos numéricos, la mayoría de los datasets combina datos numéricos con categóricos y para su manipulación es necesario el uso de otra librería, denominada [Pandas](https://pandas.pydata.org/)."
   ]
  },
  {
   "cell_type": "markdown",
   "metadata": {},
   "source": [
    "## Generar y almacenar datos"
   ]
  },
  {
   "cell_type": "markdown",
   "metadata": {},
   "source": [
    "Un ejemplo sencillo de un dataset, pueden ser las notas de 10 alumnos para 4 materias:\n",
    "\n",
    "| Alumno N° | Matemática | Fisica | Quimica |  \n",
    "| ---- | ---- | ---- | ---- |\n",
    "| 1 | 65 | 10 | 90 |\n",
    "| 2 | 40 | 23 | 93 | \n",
    "| 3 | 74 | 87 | 50 | \n",
    "| 4 | 90 | 52 | 38 | \n",
    "| 5 | 21 | 100 | 69 | \n",
    "| 7 | 63 | 91 | 84 | \n",
    "| 8 | 55 | 86 | 56 | \n",
    "| 9 | 32 | 40 | 83 |\n",
    "| 10 | 65 | 73 | 90 | \n",
    "\n",
    "De este ejemplo podemos observar que todos los datos son numéricos y este detalle es importante destacar dado que Numpy solo puede leer datos numéricos, como habíamos mencionado anteriormente. Más adelante profundizamos en Pandas , una biblioteca que se basa en NumPy y hace que el análisis de datos sea aún más fácil. Resuelve dos de los mayores puntos de dolor que son:\n",
    "\n",
    "* No puede mezclar múltiples tipos de datos en una matriz.\n",
    "* Debe recordar qué tipo de datos contiene cada columna. \n",
    "\n",
    "Entonces partamos del ejemplo anterior, para crear un archivo .dat (los archivos .dat, son archivos de datos genéricos):"
   ]
  },
  {
   "cell_type": "code",
   "execution_count": null,
   "metadata": {},
   "outputs": [],
   "source": [
    "import numpy as np\n",
    "\n",
    "notas = np.array([[65,10,90],\n",
    "                  [40,23,93],\n",
    "                  [74,87,50],\n",
    "                  [90,52,38],\n",
    "                  [21,100,69],\n",
    "                  [63,91,84],\n",
    "                  [55,86,56],\n",
    "                  [32,40,83],\n",
    "                  [65,73,90]])\n",
    "\n",
    "np.savetxt('../data/notas.dat', notas, fmt='%.4e')\n",
    "np.savetxt('../data/notas.dat', notas, fmt='%2.0f')"
   ]
  },
  {
   "cell_type": "markdown",
   "metadata": {},
   "source": [
    "> **Nota:** abrir el archivo y ver el resultado."
   ]
  },
  {
   "cell_type": "markdown",
   "metadata": {},
   "source": [
    "La pregunta que surge es, ¿Cómo sabemos que argumento utilizar en el método `savetxt`?\n",
    "Bien hay dos caminos, para encontrar la respuesta:\n",
    "\n",
    "1. Utilizando el `help`.\n",
    "2. Utilizando la [referencia oficial online](https://docs.scipy.org/doc/numpy/reference/generated/numpy.savetxt.html) de la librería."
   ]
  },
  {
   "cell_type": "code",
   "execution_count": null,
   "metadata": {},
   "outputs": [],
   "source": [
    "np.savetxt?"
   ]
  },
  {
   "cell_type": "markdown",
   "metadata": {},
   "source": [
    "## Cargar datos"
   ]
  },
  {
   "cell_type": "markdown",
   "metadata": {},
   "source": [
    "Ahora que tenemos el archivo almacenado con los datos de nuestros alumnos, vamos a cargarlos para trabajar con ellos."
   ]
  },
  {
   "cell_type": "code",
   "execution_count": null,
   "metadata": {},
   "outputs": [],
   "source": [
    "B = np.loadtxt('../data/notas.dat')\n",
    "B"
   ]
  },
  {
   "cell_type": "markdown",
   "metadata": {},
   "source": [
    "El comportamiento por defecto de `loadtxt` será:\n",
    "\n",
    "Leer todas las líneas (se pueden saltar las n primeras utilizando el argumento `skiprows`, salvo las que empiecen por # (se puede cambiar esto utilizando el argumento `comments`), esperará que los datos estén separados por espacios (se puede cambiar utilizando el argumento `delimiter`), y devolverá un array de NumPy de tipo float (el tipo se puede asignar con el argumento `dtype`)."
   ]
  },
  {
   "cell_type": "markdown",
   "metadata": {},
   "source": [
    "### Cargando csv\n",
    "\n",
    "Vamos a cargar datos almacenados en un archivo .csv (es un archivo de texto que contiene una serie de valores separados por comas, Comma Separated Values). Estos datos corresponden a un dataset de vinos extraído de:\n",
    "\n",
    "> P. Cortez, A. Cerdeira, F. Almeida, T. Matos y J. Reis. *Modelar las preferencias del vino mediante la extracción de datos a partir de propiedades fisicoquímicas*. En Decision Support Systems , Elsevier, 47 (4): 547-553, 2009.\n",
    "\n",
    "La estructura del archivo winequality-red.csv es:\n",
    "\n",
    "| Acidez fija | Azucar residual | Densidad | PH | Alcohol | Calidad |  \n",
    "| ---- | ---- | ---- | ---- | ---- | ---- | "
   ]
  },
  {
   "cell_type": "code",
   "execution_count": null,
   "metadata": {},
   "outputs": [],
   "source": [
    "# función para cargar los datos\n",
    "data = np.loadtxt(fname='../data/winequality-red.csv', delimiter=',')\n",
    "\n",
    "print(data)"
   ]
  },
  {
   "cell_type": "code",
   "execution_count": null,
   "metadata": {},
   "outputs": [],
   "source": [
    "type(data)  # tipo de la variable data"
   ]
  },
  {
   "cell_type": "markdown",
   "metadata": {},
   "source": [
    "Un `numpy.ndarray` es un array, un bloque de memoria que contiene elementos del mismo tipo. \n",
    "\n",
    "A continuación algunos ejemplos de lo que podemos almacenar en un array:\n",
    "\n",
    "* Vectores y matrices.\n",
    "* Datos de experimentos:\n",
    "    * En distintos instantes discretos.\n",
    "    * En distintos puntos del espacio.\n",
    "* Resultado de evaluar funciones con los datos anteriores.\n",
    "* Discretizaciones para usar algoritmos de: integración, derivación, interpolación..."
   ]
  },
  {
   "cell_type": "code",
   "execution_count": null,
   "metadata": {},
   "outputs": [],
   "source": [
    "data.dtype  # tipo de elementos de data"
   ]
  },
  {
   "cell_type": "markdown",
   "metadata": {},
   "source": [
    "Según hemos observado al imprimir el contenido de `data`, se trata de un array de dos dimensiones, pero ¿cuántos elementos tiene? ¿cuántos elementos tiene en cada dimensión?"
   ]
  },
  {
   "cell_type": "code",
   "execution_count": null,
   "metadata": {},
   "outputs": [],
   "source": [
    "data.size"
   ]
  },
  {
   "cell_type": "code",
   "execution_count": null,
   "metadata": {},
   "outputs": [],
   "source": [
    "data.shape"
   ]
  },
  {
   "cell_type": "markdown",
   "metadata": {},
   "source": [
    "El resultado es que tiene 1599 **filas** y 6 **columnas**, es decir, 9594 **elementos**.\n",
    "\n",
    "> **Nota:** `size` y `shape` son **atributos** del array, esto es lo mismo que decir, que son variables ligadas al array."
   ]
  },
  {
   "cell_type": "markdown",
   "metadata": {},
   "source": [
    "## Accediendo a los datos"
   ]
  },
  {
   "cell_type": "markdown",
   "metadata": {},
   "source": [
    "Para acceder a elementos de un array, lo haremos entre corchetes, al igual que hacíamos con [listas](11_primeros_pasos_I.ipynb#Listas) y [tuplas](11_primeros_pasos_I.ipynb#Tuplas):"
   ]
  },
  {
   "cell_type": "code",
   "execution_count": null,
   "metadata": {},
   "outputs": [],
   "source": [
    "print('Primer elemento de data es:', data[0, 0])"
   ]
  },
  {
   "cell_type": "markdown",
   "metadata": {},
   "source": [
    "Un array de M×N (M filas y N columnas) tiene índices que van desde 0 hasta M-1 y N-1. Al principio cuesta un poco acostumbrarse a esto."
   ]
  },
  {
   "cell_type": "code",
   "execution_count": null,
   "metadata": {},
   "outputs": [],
   "source": [
    "print (['acidez fija', 'azucar residual', 'densidad', 'PH', 'alcohol', 'calidad'])"
   ]
  },
  {
   "cell_type": "code",
   "execution_count": null,
   "metadata": {},
   "outputs": [],
   "source": [
    "# primer fila, primer vino evaluado\n",
    "print(data[0, :])"
   ]
  },
  {
   "cell_type": "code",
   "execution_count": null,
   "metadata": {},
   "outputs": [],
   "source": [
    "# primer columna, la acidez fija de todos los vinos evaluados\n",
    "print(data[:, 0])"
   ]
  },
  {
   "cell_type": "code",
   "execution_count": null,
   "metadata": {},
   "outputs": [],
   "source": [
    "# 10 vinos evaluados su azucar residual y su densidad\n",
    "print(data[10:20, 1:3])"
   ]
  },
  {
   "cell_type": "markdown",
   "metadata": {},
   "source": [
    "## Funciones y metodos\n",
    "\n",
    "`NumPy` no solo nos provee de una estructura para almacenar elementos de una manera eficiente, sino también de muchas funciones para realizar operaciones con ellos. Por ejemplo, podemos obtener la inflamación media:"
   ]
  },
  {
   "cell_type": "code",
   "execution_count": null,
   "metadata": {},
   "outputs": [],
   "source": [
    "# la calidad media de los vinos evaluados es\n",
    "calidad = data[:,5]\n",
    "calidad.mean()"
   ]
  },
  {
   "cell_type": "markdown",
   "metadata": {},
   "source": [
    "La función `mean`, está disponible como **función** (`np.mean`) y como **método de un array** (`ndarray.mean()`). Las funciones ya las conocemos, se puede decir que **un método es una función que pertenece a un elemento**, del mismo modo que **las variables que pertenecen a ese elemento se llaman atributos**.\n",
    "\n",
    "Los arrays de NumPy tienen numerosos **métodos**:"
   ]
  },
  {
   "cell_type": "code",
   "execution_count": null,
   "metadata": {},
   "outputs": [],
   "source": [
    "# máximo\n",
    "print('Máxima calidad:', calidad.max())\n",
    "# mínimo\n",
    "print('Mínima calidad:', calidad.min())\n",
    "# desviación standard\n",
    "print('Desviación standard de la calidad :', calidad.std())"
   ]
  },
  {
   "cell_type": "markdown",
   "metadata": {},
   "source": [
    "Si queremos hacer esto, para todos los vinos evaluados y para cada parametro, podemos usar el argumento `axis`.\n",
    "\n",
    "![](../imagenes/python-operations-across-axes.svg)"
   ]
  },
  {
   "cell_type": "code",
   "execution_count": null,
   "metadata": {},
   "outputs": [],
   "source": [
    "print (['acidez fija', 'azucar residual', 'densidad', 'ph', 'alcohol', 'calidad'])\n",
    "data.mean(axis=0)"
   ]
  },
  {
   "cell_type": "code",
   "execution_count": null,
   "metadata": {},
   "outputs": [],
   "source": [
    "data.max(axis=0)"
   ]
  },
  {
   "cell_type": "code",
   "execution_count": null,
   "metadata": {},
   "outputs": [],
   "source": [
    "data.min(axis=0)"
   ]
  },
  {
   "cell_type": "code",
   "execution_count": null,
   "metadata": {},
   "outputs": [],
   "source": [
    "data.std(axis=0)"
   ]
  },
  {
   "cell_type": "markdown",
   "metadata": {},
   "source": [
    "## Visualizacion\n",
    "\n",
    "Una de las mejores maneras de extraer información de nuestros datos es representarlos. Hagamos una pequeña introducción a la visualización con `matplotlib`. Ya habrá tiempo de introducirnos en los detalles, pero tratemos de mostrar gráficamente los datos de la calidad de los vinos.\n",
    "\n",
    "Empecemos con la función mágica y luego importar la librería."
   ]
  },
  {
   "cell_type": "code",
   "execution_count": null,
   "metadata": {},
   "outputs": [],
   "source": [
    "%matplotlib inline"
   ]
  },
  {
   "cell_type": "code",
   "execution_count": null,
   "metadata": {},
   "outputs": [],
   "source": [
    "import matplotlib.pyplot as plt"
   ]
  },
  {
   "cell_type": "code",
   "execution_count": null,
   "metadata": {},
   "outputs": [],
   "source": [
    "plt.hist(data[:,5], bins=5)\n",
    "plt.xlabel('Calidad')\n",
    "plt.ylabel('Cant. de vinos evaluados')\n",
    "plt.axis([0, 10, 0, 700])\n",
    "plt.grid(True)"
   ]
  },
  {
   "cell_type": "markdown",
   "metadata": {},
   "source": [
    "## Referencias\n",
    "\n",
    "* Molloy, Derek. Exploring Raspberry Pi: interfacing to the real world with embedded Linux. John Wiley & Sons, 2016.\n",
    "* Cano, Juan Luis. Curso Aero Python. Extraido de [GitHub](https://github.com/AeroPython/Curso_AeroPython), 2016.\n",
    "* G. Van Rossum. El tutorial de Python. Extraido de [PyAr](http://docs.python.org.ar/tutorial/), 2018.\n",
    "* Datos y variables, 2009.\n",
    "* Massimo Di Pierro. Web2py - Manual de Referencia. Extraido de [www.web2py.com](http://www.web2py.com/books/default/chapter/36/02/el-lenguaje-python), 2018.\n",
    "* Eugenia Bahit. Python para principiante. Extraido de [Libros Web](http://librosweb.es/libro/python/), 2018.\n",
    "* INTI - Electrónica e Informática, UT Comunicaciones. Introducción al Procesamiento Digital de Señales, 2017."
   ]
  },
  {
   "cell_type": "markdown",
   "metadata": {},
   "source": [
    "## Licencia\n",
    "\n",
    "<a rel=\"license\" href=\"http://creativecommons.org/licenses/by-sa/4.0/\"><img alt=\"Licencia de Creative Commons\" style=\"border-width:0\" src=\"https://i.creativecommons.org/l/by-sa/4.0/88x31.png\" /></a><br />Este documento se destribuye con una <a rel=\"license\" href=\"http://creativecommons.org/licenses/by-sa/4.0/\">licencia Atribución CompartirIgual 4.0 Internacional de Creative Commons</a>.\n",
    "\n",
    "© 2019. Infiniem Lab DSP. infiniemlab.dsp@gmail.com. Introducción a Python3 (CC BY-SA 4.0))"
   ]
  }
 ],
 "metadata": {
  "kernelspec": {
   "display_name": "Python 3",
   "language": "python",
   "name": "python3"
  },
  "language_info": {
   "codemirror_mode": {
    "name": "ipython",
    "version": 3
   },
   "file_extension": ".py",
   "mimetype": "text/x-python",
   "name": "python",
   "nbconvert_exporter": "python",
   "pygments_lexer": "ipython3",
   "version": "3.7.1"
  }
 },
 "nbformat": 4,
 "nbformat_minor": 2
}

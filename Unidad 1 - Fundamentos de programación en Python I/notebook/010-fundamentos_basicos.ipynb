{
 "cells": [
  {
   "cell_type": "markdown",
   "metadata": {
    "colab_type": "text",
    "id": "pJhfkZ9TnD-E"
   },
   "source": [
    "![](../imagenes/titulo_010.png)"
   ]
  },
  {
   "cell_type": "markdown",
   "metadata": {
    "colab_type": "text",
    "id": "4DEoGGL9nD-G"
   },
   "source": [
    "## Índice\n",
    "\n",
    "* [Definiciones básicas de programación](#Definiciones-basicas-de-programacion)\n",
    "    * [Algoritmos](#Algoritmos)\n",
    "    * [Paradigma de programación](#Paradigma-de-programacion)\n",
    "* [Programación orientada a objetos - POO](#Programacion-orientada-a-objetos---POO)    \n",
    "    * [Motivación de la POO](#Motivacion-de-la-POO)\n",
    "    * [Pensar en objetos](#Pensar-en-objetos)\n",
    "        * [Clases](#Clases)\n",
    "        * [Objetos](#Objetos)\n",
    "* [Etapas en el desarrollo de un programa](#Etapas-en-el-desarrollo-de-un-programa)\n",
    "* [Lenguaje de programación](#Entorno-de-programacion)\n",
    "* [La inevitable comparación](#La-inevitable-comparacion)\n",
    "    * [Ventajas de MATLAB](#Ventajas-de-MATLAB)\n",
    "    * [Ventajas de Python](#Ventajas-de-Python)\n",
    "* [Ofertas laborales](#Ofertas-laborales)\n",
    "* [Referencias](#Referencias)\n",
    "* [Licencia](#Licencia)"
   ]
  },
  {
   "cell_type": "markdown",
   "metadata": {},
   "source": [
    "## Ecosistema Python\n",
    "\n",
    "![](../imagenes/virtualbox_win_linux_200x100.png)\n",
    "\n",
    "\n",
    "![](../imagenes/anaconda_200x100.png)\n",
    "\n",
    "\n",
    "![](../imagenes/ecosistema_200x100.png)\n",
    "\n",
    "\n",
    "![](../imagenes/ecosistema_data.png)\n",
    "\n",
    "![](../imagenes/ecosistema_data1.png)"
   ]
  },
  {
   "cell_type": "markdown",
   "metadata": {
    "colab_type": "text",
    "id": "CGs4IBrlnD-I"
   },
   "source": [
    "## Definiciones basicas de programacion\n",
    "\n",
    "Definamos algunos conceptos que forman parte del punto de partida y a lo largo del workshop profundizaremos en algunos de ellos.\n",
    "\n",
    "### Algoritmos\n",
    "\n",
    "Un algoritmo se define como una **descripción no ambigua y precisa de las acciones** que hay que realizar para resolver un problema bien definido en un tiempo finito. Sin embargo, es un método general para resolver todos los casos posibles del mismo problema y, por lo tanto, debe ser **independiente de los datos de entrada** de cualquier caso concreto. **Un algoritmo se transforma en un programa a partir de que el mismo es codificado en un lenguaje de programación que la computadora es capaz de interpretar**.\n",
    "\n",
    "### Paradigma de programacion\n",
    "\n",
    "Un paradigma de programación es una **propuesta tecnológica adoptada por una comunidad de programadores y desarrolladores**. Representa un **enfoque particular o filosófico** para diseñar soluciones. Los paradigmas difieren unos de otros, en los conceptos y la forma de **abstraer** los elementos involucrados en un problema, así como en los pasos que integran la solución del problema. En general la mayoría son variantes de los dos tipos principales, [**imperativa**](https://es.wikipedia.org/wiki/Programaci%C3%B3n_imperativa) y [**declarativa**](https://es.wikipedia.org/wiki/Programaci%C3%B3n_declarativa) [M. Jesús Marco Galindo, et al., 2010]:\n",
    "\n",
    "Básicamente, hay dos tipos de paradigmas de programación (en términos generales): \n",
    "\n",
    "* **Programación imperativa**: los programas son **secuencias de instrucciones** que deben llevarse a cabo como una receta para resolver un problema determinado. Es la programación más utilizada y más antigua. Ejemplos puros de este paradigma serían: C, BASIC, Pascal.\n",
    "\n",
    "* **Programación declarativa**: en contraposición a la programación imperativa, es un paradigma de programación que está basado en el desarrollo de programas **especificando o declarando** un conjunto de condiciones, proposiciones, afirmaciones, restricciones, ecuaciones o transformaciones que describen el problema y detallan su solución. La solución es obtenida mediante **mecanismos internos de control, sin especificar exactamente cómo encontrarla** (tan sólo se le indica a la computadora qué es lo que se desea obtener o qué es lo que se está buscando. A su vez, este paradigma se dividen en **lenguajes funcionales** y **lenguajes lógicos**.\n",
    "\n",
    "Hay muchos más tipos de paradigmas, pero la mayoría se desprenden de los mencionados anteriormente. Para conocer más del tema [Paradigma de programación - Wikipedia](https://es.wikipedia.org/wiki/Paradigma_de_programaci%C3%B3n)."
   ]
  },
  {
   "cell_type": "markdown",
   "metadata": {
    "colab_type": "text",
    "id": "vj79ig68nD-K"
   },
   "source": [
    "## Programacion orientada a objetos - POO\n",
    "\n",
    "Vamos a trabajar con **la programación orientada a objetos (POO)** basada en el paradigma imperativo, una forma especial de programar, más **cercana a cómo expresamos las cosas en la vida real**. Es un paradigma surgido en los años 1970, que asume como un objeto una abstracción de algún hecho o ente del mundo real. Con la POO tenemos que aprender a pensar las cosas de una manera distinta, para escribir nuestros programas en términos de objetos, atributos, métodos, entre otros.\n",
    "\n",
    "Para conocer más acerca de la POO, se recomienda fuertemente éste artículo [Qué es la programación orientada a objetos](https://desarrolloweb.com/articulos/499.php). Resumidamente vamos a mencionar de dicho artículo que:\n",
    "\n",
    "### Motivacion de la POO\n",
    "\n",
    "Establecer una **serie de normas para realizar las cosas** de manera que otras personas puedan utilizarlas y adelantar su trabajo, de manera que consigamos que **el código se pueda reutilizar**.\n",
    "\n",
    "### Pensar en objetos\n",
    "\n",
    "**Pensar en términos de objetos es muy parecido a cómo lo haríamos en la vida real**. Por ejemplo vamos a pensar un perro para tratar de modelizarlo en un esquema de POO. Diríamos que el perro es el elemento principal que tiene una serie de características, como podrían ser el **color**, el **color de ojos**, **altura**, **longitud**, **peso**, entre otros. Además tiene una serie de funcionalidades asociadas, como pueden ser, **sentarse**, **acostarse**, **sacudirse**, **acercarse**, etc. En un esquema POO el **perro** sería la **clase base**, los **atributos (o propiedades)** serían las características como el **color** o la **altura** y los **métodos** serían las funcionalidades asociadas como **sentarse**, entre otras.\n",
    "\n",
    "![](../imagenes/definigClass_300x200.png)\n",
    "\n",
    "#### Clases\n",
    "**Las clases son declaraciones del objetos** (como el caso de la clase base que definimos anteriormente), también se podrían definir como abstracciones de objetos. Esto quiere decir que la definición de un objeto es la clase.\n",
    "* **Atributos:** los atributos o propiedades son las **características** de los objetos.\n",
    "* **Métodos:** son las **funcionalidades** asociadas a los objetos. \n",
    "\n",
    "#### Objetos\n",
    "**Los objetos son ejemplares de una clase cualquiera**. Cuando creamos un ejemplar tenemos que especificar la clase a partir de la cual se creará. Esta acción de crear un objeto a partir de una clase se llama **instanciar** (que viene de una mala traducción de la palabra instace que en inglés significa ejemplar)\n",
    "\n",
    "> **Nota:** EN PYTHON TODO SON OBJETOS."
   ]
  },
  {
   "cell_type": "markdown",
   "metadata": {
    "colab_type": "text",
    "id": "vj79ig68nD-K"
   },
   "source": [
    "## Etapas en el desarrollo de un programa\n",
    "\n",
    "A continuación mostramos una **propuesta de trabajo para el desarrollo de un programa e incluso es posible extrapolar a otras actividades**. El proceso de organizar, establecer pautas y reglas para el desarrollo de una solución basada en software, es una disciplina por sí sola. Por este motivo y sin ahondar en mucho detalle vamos a presentar una alternativa de pasos ordenados, que son simplemente una suerte de receta de cocina.\n",
    "\n",
    "![](../imagenes/etapasDesarrollo_200x200.png)\n",
    "\n",
    "* **Análisis de requerimientos. Definición del problema**: comprensión clara del problema. **Entender profundamente** cuál es el problema que se trata de resolver, **incluyendo el contexto** en el cual se usará. Una vez analizado el problema, asentar el análisis por escrito. En este sentido es importante en qué enfoque se va a trabajar, para lo cual en el  diseño de software el **front-end** es la parte del software que interactúa con el o los usuarios y el **back-end** es la parte que procesa la entrada desde el front-end, servidor o lugar físico de alojamiento. La separación del sistema en front-ends y back-ends es un tipo de abstracción que ayuda a mantener las diferentes partes del sistema separadas. Por ejemplo, en un sonómetro digital, front-end hace referencia a la visualización del entorno gráfico donde interactúa el usuario y back-end al procesamiento de las señales. En sintetizadores del habla, el front-end se refiere a la parte del sistema que convierte la entrada del texto en una representación simbólico-fonética y el back-end convierte la representación fonética y simbólica en el sonido. Muchos programas tienen su concepto de diseño dividido en front-ends y back-ends, pero en la mayoría de los casos, el back-end está oculto del usuario final y solo pueden utilizarlo el cliente intermedio o el administrador que se encargará de gestionar el sistema de información. Sin embargo, muchos programas están escritos para servir de simple front-end para otros que ya existen.\n",
    "\n",
    "> Los terminos **front-end**, **back-end** y **full stack**, provienen del ámbito del desarrollo web, pero fácilmente pueden aplicarse en otros campos de la programación.\n",
    "\n",
    "* **Diseño del algoritmo**: a partir de la definición del problema es preciso describir los valores de entrada (conocidos) y las salidas (incógnitas) que se requieran, incluyendo las unidades conforme describe los valores de entrada y salida. Trabajar con una **versión simplificada** del problema en un lenguaje verbal de los pasos necesarios para resolver el problema. A continuación se presentan algunas herramientas para trabajar en este punto:\n",
    "\n",
    "  * **Enfoque gráfico**\n",
    "      * [**Diagrama de flujo**](https://es.wikipedia.org/wiki/Diagrama_de_flujo)\n",
    "      \n",
    "      ![](../imagenes/diagramaFlujo.png)\n",
    "  \n",
    "        * Simbología estandarizada:\n",
    "            * **Óvalo o Elipse**: inicio y final del diagrama.\n",
    "            * **Rectangulo**: representa la ejecución de uno o más procedimientos.\n",
    "            * **Rombo**: representa la formulación de una pregunta o cuestión.\n",
    "            * **Trapezoide**: cargar datos al sistema.     \n",
    "        \n",
    "      * [**Diagrama UML**](https://es.wikipedia.org/wiki/Lenguaje_unificado_de_modelado), lenguaje unificado de modelado (UML, por sus siglas en inglés, Unified Modeling Language) es el lenguaje de modelado de sistemas de software.\n",
    "          \n",
    "      ![](../imagenes/diagramaUML.jpg)\n",
    "      \n",
    "      * **Otro tipo de diagramas:** clases, eventos o capas.\n",
    "\n",
    "> [Draw.io](https://www.draw.io/), es un sitio web para diseñar diagramas online. Fuertemente recomendado.\n",
    "\n",
    "  * **Pseudocódigo**: es una descripción **verbal** del algoritmo [(Pseudocódigo - Wikipedia).](https://es.wikipedia.org/wiki/Pseudocódigo)\n",
    "\n",
    "       ![](../imagenes/pseudocodigo.png)\n",
    "\n",
    "* **Implementación del programa**: el resultado del diseño es un algoritmo, pero para ejecutarlo se debe **traducir**. El diseño realizado en un pseudo lenguaje o representación gráfica a un **lenguaje de programación** que la computadora interprete. Esta etapa es sencilla, dado que sólo se trata de una traducción al lenguaje de interés de una manera bastante mecánica. Para lo cual es imprescindible conocer la **sintaxis** del lenguaje.  Una buena opción para realizar consultas respecto a la implementación son: \n",
    "\n",
    "    * [(Stackoverflow)](https://stackoverflow.com/) \n",
    "    * [(Stack orientado a Signal Processing)](https://dsp.stackexchange.com/) \n",
    "\n",
    "\n",
    "* **Pruebas (testing)**: en términos generales es la investigación empírica y técnica cuyo objetivo es proporcionar información objetiva e independiente sobre la calidad del producto, en esta etapa se prueba el programa resultante con diferentes datos de entrada y en distintas condiciones.\n",
    "\n",
    "* **Mejoras y mantenimiento** : el mantenimiento del código y la implementación de mejoras no serían posible sin una correcta documentación. Una excelente herramienta para documentar y tener control sobre las versiones del código es [Git](https://git-scm.com/) (en su versión local) y [GitHub](https://github.com/) o [Bitbucker](https://bitbucket.org/) (versiones remotas). De esta herramienta hablamos en la [Clase_02](../../Clase_00/notebooks/02_introGit.ipynb)."
   ]
  },
  {
   "cell_type": "markdown",
   "metadata": {},
   "source": [
    "## Lenguajes de programacion\n",
    "\n",
    "Los lenguajes de programación son herramientas (de manera simplificada) para transferir una idea o solución a un idioma que logre interpretar la computadora. Por lo tanto, hay lenguajes que resolveran  algunos problemas mejor que otros, en este sentido la siguiente infografia resume [que lenguaje de programación deberia aprender](https://i0.wp.com/blog.epet1.edu.ar/wp-content/uploads/2015/05/que-lenguaje-de-programacion-deberia-aprender-primero.jpg), entre los lenguajes más utilizados hoy en dia.\n",
    "\n",
    "### Python\n",
    "\n",
    "Porque es un **lenguaje de programación poderoso y fácil de aprender**. Cuenta con estructuras de datos eficientes y de alto nivel, posee un enfoque simple pero efectivo a la **programación orientada a objetos**. La elegante sintaxis de Python y su **tipado dinámico**, junto con su naturaleza interpretada, hacen de éste un lenguaje ideal para el desarrollo rápido de aplicaciones en diversas áreas [G. Van Rossum., 2017]. Su filosofía de diseño enfatiza la **productividad del programador** y la **legibilidad del código**. Tiene un núcleo sintáctico minimalista con unos pocos comandos básicos y simple semántica, pero además una enorme y variada librería estándar. Fue creado a finales de los ochenta por Guido van Rossum.\n",
    "\n",
    "![](../imagenes/guidoVanRossum.jpg)\n",
    "\n",
    "> Paradójicamente el apellido de Guido, es igual  al nombre de la compañía que fabrica las máquinas en la obra teatral de ciencia ficción **[R.U.R - Rossum's Universal Robots](https://es.wikipedia.org/wiki/R.U.R._(Robots_Universales_Rossum) (1921)**. La obra teatral trata sobre una empresa que construye humanos artificiales orgánicos con el fin de aligerar la carga de trabajo a las personas. Es conocida por contener la primera aparición del término **robot**. Dicha palabra había sido ideada por el hermano del autor, Josef Čapek (1887 - 1945) a partir de la palabra checa **robota**, que significa **trabajo**.\n",
    "\n",
    "![](../imagenes/rur.jpg)\n",
    "\n",
    "* Python te permite **separar el programa en módulos** que pueden reusarse en otros programas en Python.\n",
    "* Python es un **lenguaje interpretado**, lo cual puede ahorrarte mucho tiempo durante el desarrollo ya que no es necesario compilar.\n",
    "* Python permite **escribir programas compactos y legibles**.\n",
    "\n",
    "El intérprete de Python y la extensa biblioteca estándar están a libre disposición en forma binaria y el código fuente para las principales plataformas desde el [sitio web de Python](https://www.python.org/), y puede distribuirse libremente [G. Van Rossum., 2017]. \n",
    "\n",
    "> Por cierto, el lenguaje recibe su nombre del programa de televisión de la BBC [\"Monty Python's Flying Circus\"](https://es.wikipedia.org/wiki/Monty_Python%27s_Flying_Circus) y **no tiene nada que ver con reptiles**."
   ]
  },
  {
   "cell_type": "markdown",
   "metadata": {},
   "source": [
    "## La inevitable comparacion\n",
    "\n",
    "Si se busca información acerca de las ventajas de usar Python en lugar de [MATLAB](https://www.mathworks.com/products/matlab.html), hay una gran cantidad de argumentos que ayudan a la elección. La intención en lo expuesto a continuación es dar una visión objetiva del asunto, para que facilitar el análisis.\n",
    "\n",
    "Informacion extraida de:\n",
    "* [agilescientific.com](https://agilescientific.com/blog/2016/4/6/why-python-beats-matlab)\n",
    "* [pyzo](http://www.pyzo.org/python_vs_matlab.html)\n",
    "* [mathworks](https://www.mathworks.com/products/matlab/matlab-vs-python.html)\n",
    "* [phillipmfeldman](http://phillipmfeldman.org/Python/Advantages_of_Python_Over_Matlab.html)\n",
    "\n",
    "![](../imagenes/pythonvsmatlab.png)\n",
    "\n",
    "### Ventajas de MATLAB\n",
    "\n",
    "* **Matrices**. Las matrices en python requieren ser instancias con funciones.\n",
    "* **Toolbox**. Muchas funciones de MATLAB han existido por más de 30 años,tiempo suficiente para validar su uso.\n",
    "* **Simulink**. El diseño de sistemas basado en bloques de simulación es una herramienta muy difícil por reemplazar por la competencia.\n",
    "* **Fácil de instalar**. El entorno MATLAB es una aplicación de escritorio, por lo que es instantáneamente familiar y se puede administrar con los mismos procesos que se manejan otros programas.\n",
    "* **Helps**. Un asistente offline que tiene un gran potencial por la gran cantidad de documentación, ejemplos y referencias disponibles.\n",
    "\n",
    "\n",
    "### Ventajas de Python\n",
    "\n",
    "* **Libre y open source**. Python es estable, confiable, con gran soporte y una gran comunidad de desarrolladores (Hay otras alternativas gratuitas a MATLAB, especialmente [GNU Octave](https://www.gnu.org/software/octave/) y [SciLab](https://www.scilab.org/)).\n",
    "* **Propósito general**. Python viene con una gran cantidad de librerías instaladas, haciéndolo muy versátil. Se puede usar directamente en el shell (microtasks), o de forma interactiva, o en scripts, o para crear software comercial con GUI.\n",
    "* **Cross platform**. Puede ejecutarse código de Python en cualquier arquitectura, versiones para Windows, Linux/Unix, MAC OS X y muchos otros.\n",
    "* **Objetos**. Los tipos son asociados con objetos, no con variables (como en MATLAB). Python opera generalmente en un alto nivel de abstracción. Las reglas de sintaxis son muy simples.\n",
    "* **Expresivo**. Las buenas prácticas de programación, \"Zen de Python\", además de una sintaxis muy simple hacen un codigo muy facil de leer en menos líneas, que en otros lenguajes.\n",
    "* **Multiparadigma**. Si bien predomina el POO, es posible trabajar con otros paradigmas.\n",
    "* **Código eficiente**. Los módulos numéricos de Python son computacionalmente eficientes. "
   ]
  },
  {
   "cell_type": "markdown",
   "metadata": {},
   "source": [
    " Con respecto a otros lenguajes de programación (C, C++, Fortran, Julia, Scilab, Octave, R, entre otros), [¿Cómo se compara Python?](http://www.scipy-lectures.org/intro/intro.html#how-does-python-compare-to-other-solutions)"
   ]
  },
  {
   "cell_type": "code",
   "execution_count": 1,
   "metadata": {},
   "outputs": [
    {
     "name": "stdout",
     "output_type": "stream",
     "text": [
      "The Zen of Python, by Tim Peters\n",
      "\n",
      "Beautiful is better than ugly.\n",
      "Explicit is better than implicit.\n",
      "Simple is better than complex.\n",
      "Complex is better than complicated.\n",
      "Flat is better than nested.\n",
      "Sparse is better than dense.\n",
      "Readability counts.\n",
      "Special cases aren't special enough to break the rules.\n",
      "Although practicality beats purity.\n",
      "Errors should never pass silently.\n",
      "Unless explicitly silenced.\n",
      "In the face of ambiguity, refuse the temptation to guess.\n",
      "There should be one-- and preferably only one --obvious way to do it.\n",
      "Although that way may not be obvious at first unless you're Dutch.\n",
      "Now is better than never.\n",
      "Although never is often better than *right* now.\n",
      "If the implementation is hard to explain, it's a bad idea.\n",
      "If the implementation is easy to explain, it may be a good idea.\n",
      "Namespaces are one honking great idea -- let's do more of those!\n"
     ]
    }
   ],
   "source": [
    "import this"
   ]
  },
  {
   "cell_type": "markdown",
   "metadata": {},
   "source": [
    "* Hermoso es mejor que feo\n",
    "* Explícito es mejor que implícito.\n",
    "* Simple es mejor que complejo.\n",
    "* .. etc"
   ]
  },
  {
   "cell_type": "markdown",
   "metadata": {
    "colab_type": "text",
    "id": "CUNEAy8CnD-P"
   },
   "source": [
    "## Ofertas laborales\n",
    "\n",
    "En cuanto a los lenguajes más utilizados en el 2017, la IEEE hizo el siguiente cuadro informativo [fuente](https://adtmag.com/articles/2017/07/24/ieee-spectrum-ranking.aspx):\n",
    "\n",
    "![](../imagenes/ranking_lenguajes.png)\n",
    "\n",
    "Por otra parte [Stack Overflow](https://insights.stackoverflow.com/survey/2018/#technology) tiene sus propias estadisticas."
   ]
  },
  {
   "cell_type": "markdown",
   "metadata": {
    "colab_type": "text",
    "id": "CptqqFUmnD-Q"
   },
   "source": [
    "## Referencias\n",
    "\n",
    "* Yossi Farjoun. RES.18-002 Introduction to MATLAB. Massachusetts Institute of Technology: MIT OpenCourseWare, https://ocw.mit.edu. License: Creative Commons BY-NC-SA. Spring 2008.\n",
    "* Julio Liarte. Escuela de Informáticos. Cómo elegir tu primer lenguaje de programación. Available at: http://escueladeinformaticos.com/elegir-primer-lenguaje-de-programacion. 2016.\n",
    "* Kamen, Edward W., and Bonnie S. Heck. Fundamentos de señales y sistemas usando la Web y Matlab. Pearson Prentice-Hall, 2008.\n",
    "* Holly Moore. MATLAB para ingenieros. Pearson, 2007.\n",
    "* Giannakopoulos, Theodoros, and Aggelos Pikrakis. Introduction to Audio Analysis: A MATLAB® Approach. Academic Press, 2014.\n",
    "* Mat.caminos.upm.es. Lenguaje de programación - MateWiki. Available at:  https://mat.caminos.upm.es/wiki/Lenguaje_de_programaci%C3%B3n#Tipado_est.C3.A1tico_y_din.C3.A1mico. Universidad Politécnica de Madrid. 2017.\n",
    "* M. Jesús Marco Galindo, Josep Vilaplana Pastó. Introducción a la programación. Universitat Oberta de Catalunya. pp 1-16, 2010.\n",
    "* G. Van Rossum. El tutorial de Python. PyAr http://docs.python.org.ar/tutorial/\n",
    "* Villalobos J., Casallas R., \"Fundamentos de Programación\". Universidad de los Andes, Facultad de Ingeniería, Departamento de Ingeniería de Sistemas y Computación. Extraido de: https://universidad-de-los-andes.gitbooks.io/fundamentos-de-programacion/"
   ]
  },
  {
   "cell_type": "markdown",
   "metadata": {},
   "source": [
    "## Licencia\n",
    "\n",
    "<a rel=\"license\" href=\"http://creativecommons.org/licenses/by-sa/4.0/\"><img alt=\"Licencia de Creative Commons\" style=\"border-width:0\" src=\"https://i.creativecommons.org/l/by-sa/4.0/88x31.png\" /></a><br />Este documento se destribuye con una <a rel=\"license\" href=\"http://creativecommons.org/licenses/by-sa/4.0/\">licencia Atribución CompartirIgual 4.0 Internacional de Creative Commons</a>.\n",
    "\n",
    "© 2019. Infiniem Lab DSP. infiniemlab.dsp@gmail.com. Introducción a Python3 (CC BY-SA 4.0))"
   ]
  }
 ],
 "metadata": {
  "colab": {
   "default_view": {},
   "name": "10_introduccion.ipynb",
   "provenance": [],
   "version": "0.3.2",
   "views": {}
  },
  "kernelspec": {
   "display_name": "Python 3",
   "language": "python",
   "name": "python3"
  },
  "language_info": {
   "codemirror_mode": {
    "name": "ipython",
    "version": 3
   },
   "file_extension": ".py",
   "mimetype": "text/x-python",
   "name": "python",
   "nbconvert_exporter": "python",
   "pygments_lexer": "ipython3",
   "version": "3.7.1"
  }
 },
 "nbformat": 4,
 "nbformat_minor": 2
}

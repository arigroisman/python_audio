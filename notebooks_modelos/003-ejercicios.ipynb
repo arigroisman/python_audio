{
 "cells": [
  {
   "cell_type": "markdown",
   "metadata": {},
   "source": [
    "![](../imagenes/tit-ejercicios-1.png)"
   ]
  },
  {
   "cell_type": "markdown",
   "metadata": {},
   "source": [
    "1) Seguir los pasos del notebook [000-instalacion](000-instalacion.ipynb), para instalar el entorno de desarrollo Anaconda y Git, en el sistema operativo que desees (se recomienda Linux - Ubuntu)."
   ]
  },
  {
   "cell_type": "markdown",
   "metadata": {},
   "source": [
    "2) Crear usuario en [Github](https://github.com/), [Gitlab](https://about.gitlab.com/) o [Bitbucket](https://bitbucket.org/) y  [configurar Git](002-introGit.ipynb#Configurar-Git)."
   ]
  },
  {
   "cell_type": "markdown",
   "metadata": {},
   "source": [
    "3) Crear una nueva carpeta y dentro de la misma copiar la carpeta 'workshop_python' con el contenido del curso. Abrir un Git Bash (o terminal en Linux). Inicializar la carpeta y realizar un `push` al repositorio remoto. "
   ]
  },
  {
   "cell_type": "markdown",
   "metadata": {},
   "source": [
    "4) Desde una [terminal](001-comandos_terminal.ipynb#Comandos-basicos-de-Linux) y dentro del raíz del repositorio local creado ejecutar `jupyter notebook`. Abrir el notebook [011-sintaxis_basica_I](011-sintaxis_basica_I.ipynb) y recorrerlo para corroborar que todo esté instalado correctamente."
   ]
  },
  {
   "cell_type": "markdown",
   "metadata": {},
   "source": [
    "5) Crear una carpeta dentro del repositorio \"notebooks_propios\" y generar un archivo notebook .ipynb de prueba."
   ]
  },
  {
   "cell_type": "markdown",
   "metadata": {},
   "source": [
    "6) Realizar un `status`, un `commit` y por ultimo un `push` de todos los cambios realizados en el repositorio."
   ]
  },
  {
   "cell_type": "markdown",
   "metadata": {},
   "source": [
    "## Licencia\n",
    "\n",
    "<a rel=\"license\" href=\"http://creativecommons.org/licenses/by-sa/4.0/\"><img alt=\"Licencia de Creative Commons\" style=\"border-width:0\" src=\"https://i.creativecommons.org/l/by-sa/4.0/88x31.png\" /></a><br />Este documento se destribuye con una <a rel=\"license\" href=\"http://creativecommons.org/licenses/by-sa/4.0/\">licencia Atribución CompartirIgual 4.0 Internacional de Creative Commons</a>.\n",
    "\n",
    "© 2019. Infiniem Lab DSP. infiniemlab.dsp@gmail.com. Introducción a Python3 (CC BY-SA 4.0))"
   ]
  }
 ],
 "metadata": {
  "kernelspec": {
   "display_name": "Python 3",
   "language": "python",
   "name": "python3"
  },
  "language_info": {
   "codemirror_mode": {
    "name": "ipython",
    "version": 3
   },
   "file_extension": ".py",
   "mimetype": "text/x-python",
   "name": "python",
   "nbconvert_exporter": "python",
   "pygments_lexer": "ipython3",
   "version": "3.7.1"
  }
 },
 "nbformat": 4,
 "nbformat_minor": 2
}

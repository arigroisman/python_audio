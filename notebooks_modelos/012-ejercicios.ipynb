{
 "cells": [
  {
   "cell_type": "markdown",
   "metadata": {},
   "source": [
    "![](../imagenes/tit-ejercicios-2.png)"
   ]
  },
  {
   "cell_type": "markdown",
   "metadata": {},
   "source": [
    "1) Resolver los ejercicios propuestos a lo largo de la clase [011-sintaxis basica I](011-sintaxis_basica_I.ipynb)."
   ]
  },
  {
   "cell_type": "markdown",
   "metadata": {},
   "source": [
    "2) *Resolviendo un problema de física:*\n",
    "Supongamos que tiramos una pelota desde una torre de altura $h$, la misma parte desde el reposo y acelera a $9,8$ $m/s^{2}$ hacia el suelo. Se desea hacer un programa que reciba como entrada los valores de altura $h$ y el intervalo $t$ de tiempo desde que se lanzó la pelota, para luego calcular a la altura a la que se encuentra.\n",
    "\n",
    "La ecuación de caída libre, sin considerar fuerzas de rozamiento, es la siguiente:\n",
    "\n",
    "$ y = y_{0} + v_{0} \\cdot t + \\frac{1}{2} \\cdot 9,8 \\cdot t^{2} $"
   ]
  },
  {
   "cell_type": "markdown",
   "metadata": {},
   "source": [
    "3) Convertir unidades:\n",
    "\n",
    "Parte 1: Convertir coordenadas polares a cartesianas. El usuario debe ingresar los valores $r$ y $\\theta$, y el programa devuelve los valores $x$ e $y$ correspondientes.\n",
    "\n",
    "Parte 2: Pasar el valor de ganancia de un amplificador a escala logarítmica. El usuario ingresa los valores de tensión de entrada y salida, y el programa devuelve la ganancia expresada en veces y el dB."
   ]
  },
  {
   "cell_type": "markdown",
   "metadata": {},
   "source": [
    "## Licencia\n",
    "\n",
    "<a rel=\"license\" href=\"http://creativecommons.org/licenses/by-sa/4.0/\"><img alt=\"Licencia de Creative Commons\" style=\"border-width:0\" src=\"https://i.creativecommons.org/l/by-sa/4.0/88x31.png\" /></a><br />Este documento se destribuye con una <a rel=\"license\" href=\"http://creativecommons.org/licenses/by-sa/4.0/\">licencia Atribución CompartirIgual 4.0 Internacional de Creative Commons</a>.\n",
    "\n",
    "© 2019. Infiniem Lab DSP. infiniemlab.dsp@gmail.com. Introducción a Python3 (CC BY-SA 4.0))"
   ]
  }
 ],
 "metadata": {
  "kernelspec": {
   "display_name": "Python 3",
   "language": "python",
   "name": "python3"
  },
  "language_info": {
   "codemirror_mode": {
    "name": "ipython",
    "version": 3
   },
   "file_extension": ".py",
   "mimetype": "text/x-python",
   "name": "python",
   "nbconvert_exporter": "python",
   "pygments_lexer": "ipython3",
   "version": "3.7.1"
  }
 },
 "nbformat": 4,
 "nbformat_minor": 2
}
